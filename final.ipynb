{
 "cells": [
  {
   "cell_type": "code",
   "execution_count": 2,
   "id": "46b546d4",
   "metadata": {},
   "outputs": [
    {
     "name": "stderr",
     "output_type": "stream",
     "text": [
      "c:\\Users\\jimmy\\AppData\\Local\\Programs\\Python\\Python313\\Lib\\site-packages\\tqdm\\auto.py:21: TqdmWarning: IProgress not found. Please update jupyter and ipywidgets. See https://ipywidgets.readthedocs.io/en/stable/user_install.html\n",
      "  from .autonotebook import tqdm as notebook_tqdm\n"
     ]
    }
   ],
   "source": [
    "import datasets\n",
    "import numpy as np\n",
    "import evaluate\n",
    "import torch\n",
    "import torch.nn as nn\n",
    "import torch.optim as optim\n",
    "import nltk\n",
    "import string\n",
    "import json\n",
    "from tqdm import tqdm\n",
    "from nltk.tokenize import word_tokenize\n",
    "from nltk.corpus import stopwords\n",
    "from sklearn.feature_extraction.text import TfidfVectorizer\n",
    "from sklearn.preprocessing import MultiLabelBinarizer\n",
    "from sklearn.model_selection import train_test_split\n",
    "from sklearn.linear_model import LogisticRegression\n",
    "from sklearn.multiclass import OneVsRestClassifier\n",
    "from sklearn.metrics import classification_report,accuracy_score\n",
    "from collections import Counter"
   ]
  },
  {
   "cell_type": "code",
   "execution_count": 3,
   "id": "c51118a2",
   "metadata": {},
   "outputs": [
    {
     "name": "stderr",
     "output_type": "stream",
     "text": [
      "[nltk_data] Downloading package punkt to\n",
      "[nltk_data]     C:\\Users\\jimmy\\AppData\\Roaming\\nltk_data...\n",
      "[nltk_data]   Package punkt is already up-to-date!\n",
      "[nltk_data] Downloading package punkt_tab to\n",
      "[nltk_data]     C:\\Users\\jimmy\\AppData\\Roaming\\nltk_data...\n",
      "[nltk_data]   Package punkt_tab is already up-to-date!\n",
      "[nltk_data] Downloading package stopwords to\n",
      "[nltk_data]     C:\\Users\\jimmy\\AppData\\Roaming\\nltk_data...\n",
      "[nltk_data]   Package stopwords is already up-to-date!\n"
     ]
    },
    {
     "data": {
      "text/plain": [
       "True"
      ]
     },
     "execution_count": 3,
     "metadata": {},
     "output_type": "execute_result"
    }
   ],
   "source": [
    "# 下載 nltk 資源（只需一次）\n",
    "nltk.download('punkt')\n",
    "nltk.download(\"punkt_tab\")\n",
    "nltk.download('stopwords')"
   ]
  },
  {
   "cell_type": "code",
   "execution_count": 10,
   "id": "35fa7edf",
   "metadata": {},
   "outputs": [],
   "source": [
    "#Load the dataset\n",
    "dataset = datasets.load_from_disk(\"super-emotion\")\n",
    "train_dataset = dataset[\"train\"]\n",
    "test_dataset = dataset[\"test\"]\n",
    "\n",
    "texts_train  = train_dataset[\"text\"]\n",
    "labels_train = train_dataset[\"labels\"]\n",
    "\n",
    "texts_test = test_dataset[\"text\"]\n",
    "labels_test = test_dataset[\"labels\"]"
   ]
  },
  {
   "cell_type": "markdown",
   "id": "fb44aa72",
   "metadata": {},
   "source": [
    "### Data Preprocessing(torch)"
   ]
  },
  {
   "cell_type": "code",
   "execution_count": 5,
   "id": "1ce5a7ea",
   "metadata": {},
   "outputs": [
    {
     "name": "stderr",
     "output_type": "stream",
     "text": [
      "100%|██████████| 440/440 [00:19<00:00, 22.46it/s]\n",
      "100%|██████████| 59/59 [00:02<00:00, 22.46it/s]\n"
     ]
    }
   ],
   "source": [
    "# NLTK prerocessing\n",
    "stop_words = set(stopwords.words(\"english\"))\n",
    "def preprocess_text(text):\n",
    "    text = text.lower()\n",
    "    tokens = word_tokenize(text)\n",
    "    tokens = [t for t in tokens if t.isalpha()]  # 移除標點、數字\n",
    "    tokens = [t for t in tokens if t not in stop_words]\n",
    "    return \" \".join(tokens)\n",
    "def preprocess_and_save(texts, output_file, batch_size=1000):\n",
    "    with open(output_file, \"w\", encoding=\"utf-8\") as f:\n",
    "        for i in tqdm(range(0, len(texts), batch_size)):\n",
    "            batch = texts[i:i + batch_size]\n",
    "            cleaned_batch = [preprocess_text(t) for t in batch]\n",
    "            for line in cleaned_batch:\n",
    "                f.write(json.dumps(line) + \"\\n\")\n",
    "preprocess_and_save(texts_train, \"texts_train_cleaned.jsonl\")\n",
    "preprocess_and_save(texts_test, \"texts_test_cleaned.jsonl\")\n",
    "with open(\"labels_train.json\", \"w\", encoding=\"utf-8\") as f:\n",
    "    json.dump(labels_train, f)\n",
    "with open(\"labels_test.json\", \"w\", encoding=\"utf-8\") as f:\n",
    "    json.dump(labels_test, f)\n",
    "def load_cleaned_texts(file_path):\n",
    "    with open(file_path, \"r\", encoding=\"utf-8\") as f:\n",
    "        return [json.loads(line) for line in f]\n",
    "texts_cleaned_train = load_cleaned_texts(\"texts_train_cleaned.jsonl\")\n",
    "texts_cleaned_test = load_cleaned_texts(\"texts_test_cleaned.jsonl\")\n",
    "#RAM會爆炸!!\n",
    "#texts_cleaned_train = [preprocess_text(t) for t in texts_train [:50000]]\n",
    "#texts_cleaned_test = [preprocess_text(t) for t in texts_test [:50000]]\n",
    "#labels_subset_train = labels_train[:50000]\n",
    "#labels_subset_test = labels_test[:50000]"
   ]
  },
  {
   "cell_type": "code",
   "execution_count": null,
   "id": "7c0553fb",
   "metadata": {},
   "outputs": [],
   "source": [
    "# TF-IDF 向量化\n",
    "vectorizer = TfidfVectorizer(max_features=10000)\n",
    "vectorizer.fit(texts_cleaned_train)\n",
    "def vectorize_in_batch(texts, batch_size=1000):\n",
    "    vectors = []\n",
    "    for i in range(0, len(texts), batch_size):\n",
    "        batch = texts[i:i + batch_size]\n",
    "        X_batch = vectorizer.transform(batch).toarray().astype(np.float32)\n",
    "        vectors.append(torch.tensor(X_batch))\n",
    "    return vectors\n",
    "# X = vectorizer.fit_transform(texts_cleaned_train).toarray().astype(np.float32)\n",
    "X_train_batches = vectorize_in_batch(texts_cleaned_train)\n",
    "X_test_batches = vectorize_in_batch(texts_cleaned_test)"
   ]
  },
  {
   "cell_type": "code",
   "execution_count": 12,
   "id": "f5a6e2a7",
   "metadata": {},
   "outputs": [],
   "source": [
    "# Label multi-hot encoding\n",
    "#mlb = MultiLabelBinarizer()\n",
    "# Y = mlb.fit_transform(labels_subset_train)   # shape = (n_samples, n_emotions)\n",
    "#y_train = mlb.fit_transform(labels_subset_train)\n",
    "#y_test = mlb.transform(labels_subset_test)\n",
    "#y_train = mlb.fit_transform(labels_train)   # shape = (n_samples, n_emotions)\n",
    "#y_test = mlb.transform(labels_test)\n",
    "\n",
    "# 分割訓練集與測試集\n",
    "# X_train, X_test, y_train, y_test = train_test_split(X, Y, test_size=0.2, random_state=42)\n",
    "\n",
    "#X_train = torch.tensor(X_train, dtype=torch.float32)\n",
    "#X_test = torch.tensor(X_test, dtype=torch.float32)\n",
    "#原本為多標籤，取第一個標籤作為分類\n",
    "y_train_single = [labels[0] for labels in labels_train]\n",
    "y_test_single = [labels[0] for labels in labels_test]\n",
    "#轉成tensor\n",
    "train_data = [(batch, torch.tensor(y_train_single[i:i+len(batch)], dtype=torch.long)) for i, batch in enumerate(X_train_batches)]\n",
    "test_data = [(batch, torch.tensor(y_test_single[i:i+len(batch)], dtype=torch.long)) for i, batch in enumerate(X_test_batches)]\n",
    "#y_train = torch.tensor(y_train_single, dtype=torch.long)\n",
    "#y_test = torch.tensor(y_test_single, dtype=torch.long)"
   ]
  },
  {
   "cell_type": "code",
   "execution_count": 13,
   "id": "8652a652",
   "metadata": {},
   "outputs": [],
   "source": [
    "#建立模型\n",
    "class MLP(nn.Module):\n",
    "    def __init__(self, input_dim, hidden_dim, output_dim):\n",
    "        super(MLP, self).__init__()\n",
    "        self.model=nn.Sequential(\n",
    "            nn.Linear(input_dim, hidden_dim),\n",
    "            nn.ReLU(),\n",
    "            nn.Dropout(0.3),\n",
    "            nn.Linear(hidden_dim, output_dim)\n",
    "        )\n",
    "    def forward(self, x):\n",
    "        return self.model(x)"
   ]
  },
  {
   "cell_type": "code",
   "execution_count": 15,
   "id": "71bb329c",
   "metadata": {},
   "outputs": [
    {
     "name": "stdout",
     "output_type": "stream",
     "text": [
      "Epoch [1/10], Loss: 1.1926, Acc: 0.4673\n",
      "Epoch [2/10], Loss: 1.1013, Acc: 0.4806\n",
      "Epoch [3/10], Loss: 1.0949, Acc: 0.4806\n",
      "Epoch [4/10], Loss: 1.0859, Acc: 0.4806\n",
      "Epoch [5/10], Loss: 1.0733, Acc: 0.4812\n",
      "Epoch [6/10], Loss: 1.0571, Acc: 0.4832\n",
      "Epoch [7/10], Loss: 1.0410, Acc: 0.4858\n",
      "Epoch [8/10], Loss: 1.0245, Acc: 0.4890\n",
      "Epoch [9/10], Loss: 1.0099, Acc: 0.4919\n",
      "Epoch [10/10], Loss: 0.9955, Acc: 0.4952\n"
     ]
    }
   ],
   "source": [
    "\n",
    "#設定類別的權重，因為資料集不平衡\n",
    "label_counter = Counter(y_train_single)\n",
    "class_counts = torch.tensor([label_counter[i] for i in range(7)], dtype=torch.float32)\n",
    "class_weights = 1.0 / class_counts\n",
    "class_weights = class_weights / class_weights.sum()*7\n",
    "#設定參數\n",
    "input_dim = X_train_batches[0].shape[1]\n",
    "hidden_dim = 128\n",
    "output_dim = 7\n",
    "#初始化模型\n",
    "model = MLP(input_dim, hidden_dim, output_dim)\n",
    "criterion = nn.CrossEntropyLoss(weight=class_weights)\n",
    "optimizer = optim.Adam(model.parameters(), lr=0.001)\n",
    "#訓練模型\n",
    "epochs = 10\n",
    "for epoch in range(epochs):\n",
    "    model.train()\n",
    "    total_loss = 0.0\n",
    "    all_preds = []\n",
    "    all_labels = []\n",
    "    for X_batch, y_batch in train_data:\n",
    "        optimizer.zero_grad()\n",
    "        outputs = model(X_batch)\n",
    "        loss = criterion(outputs, y_batch)\n",
    "        loss.backward()\n",
    "        optimizer.step()\n",
    "        total_loss += loss.item()\n",
    "        preds = torch.argmax(outputs, dim=1)\n",
    "        all_preds.extend(preds.tolist())\n",
    "        all_labels.extend(y_batch.tolist())\n",
    "    acc = accuracy_score(all_labels, all_preds)\n",
    "    print(f\"Epoch [{epoch+1}/{epochs}], Loss: {total_loss/len(train_data):.4f}, Acc: {acc:.4f}\")"
   ]
  },
  {
   "cell_type": "code",
   "execution_count": 8,
   "id": "a67e550e",
   "metadata": {},
   "outputs": [
    {
     "name": "stdout",
     "output_type": "stream",
     "text": [
      "Test Loss: 1.4131, Test Acc: 0.6878\n"
     ]
    }
   ],
   "source": [
    "model.eval()\n",
    "with torch.no_grad():\n",
    "    outputs = model(X_test)\n",
    "    y_test_class = y_test.argmax(dim=1)\n",
    "    test_loss = criterion(outputs, y_test_class)\n",
    "    preds = torch.argmax(outputs, dim=1)\n",
    "    test_acc = accuracy_score(y_test_class.numpy(), preds.numpy())\n",
    "    print(f\"Test Loss: {test_loss.item():.4f}, Test Acc: {test_acc:.4f}\")"
   ]
  },
  {
   "cell_type": "markdown",
   "id": "acbb1494",
   "metadata": {},
   "source": [
    "### Data preprocessing(sklearning)"
   ]
  },
  {
   "cell_type": "code",
   "execution_count": 9,
   "id": "6cd036ec",
   "metadata": {},
   "outputs": [],
   "source": [
    "# NLTK prerocessing\n",
    "stop_words = set(stopwords.words(\"english\"))\n",
    "def preprocess_text(text):\n",
    "    text = text.lower()\n",
    "    tokens = word_tokenize(text)\n",
    "    tokens = [t for t in tokens if t.isalpha()]  # 移除標點、數字\n",
    "    tokens = [t for t in tokens if t not in stop_words]\n",
    "    return \" \".join(tokens)\n",
    "\n",
    "texts_cleaned_train = [preprocess_text(t) for t in texts_train]\n",
    "texts_cleaned_test = [preprocess_text(t) for t in texts_test]"
   ]
  },
  {
   "cell_type": "code",
   "execution_count": 10,
   "id": "46ae8352",
   "metadata": {},
   "outputs": [],
   "source": [
    "# TF-IDF 向量化\n",
    "vectorizer = TfidfVectorizer(max_features=10000)\n",
    "# X = vectorizer.fit_transform(texts_cleaned_train)\n",
    "X_train = vectorizer.fit_transform(texts_cleaned_train)\n",
    "X_test = vectorizer.transform(texts_cleaned_test)"
   ]
  },
  {
   "cell_type": "code",
   "execution_count": 11,
   "id": "bfe2fa81",
   "metadata": {},
   "outputs": [],
   "source": [
    "# Label multi-hot encoding\n",
    "mlb = MultiLabelBinarizer()\n",
    "# Y = mlb.fit_transform(labels_train)   \n",
    "y_train = mlb.fit_transform(labels_train) # shape = (n_samples, n_emotions)\n",
    "y_test = mlb.transform(labels_test)\n",
    "\n",
    "# 分割訓練集與測試集\n",
    "# X_train, X_test, y_train, y_test = train_test_split(X, Y, test_size=0.2, random_state=42)"
   ]
  },
  {
   "cell_type": "code",
   "execution_count": 12,
   "id": "98c72638",
   "metadata": {},
   "outputs": [
    {
     "name": "stdout",
     "output_type": "stream",
     "text": [
      "              precision    recall  f1-score   support\n",
      "\n",
      "       Anger       0.90      0.65      0.76      8705\n",
      "        Fear       0.86      0.65      0.74      6474\n",
      "         Joy       0.90      0.78      0.84     18484\n",
      "        Love       0.78      0.52      0.62      6157\n",
      "     Neutral       0.60      0.24      0.34      3925\n",
      "     Sadness       0.92      0.82      0.87     14853\n",
      "    Surprise       0.74      0.40      0.52      2660\n",
      "\n",
      "   micro avg       0.88      0.68      0.77     61258\n",
      "   macro avg       0.82      0.58      0.67     61258\n",
      "weighted avg       0.86      0.68      0.75     61258\n",
      " samples avg       0.69      0.70      0.69     61258\n",
      "\n"
     ]
    },
    {
     "name": "stderr",
     "output_type": "stream",
     "text": [
      "/home/wayne777aa/.local/lib/python3.10/site-packages/sklearn/metrics/_classification.py:1565: UndefinedMetricWarning: Precision is ill-defined and being set to 0.0 in samples with no predicted labels. Use `zero_division` parameter to control this behavior.\n",
      "  _warn_prf(average, modifier, f\"{metric.capitalize()} is\", len(result))\n"
     ]
    }
   ],
   "source": [
    "sklearn_model=LogisticRegression(max_iter=1000)\n",
    "clf= OneVsRestClassifier(sklearn_model)\n",
    "clf.fit(X_train, y_train)\n",
    "y_pred = clf.predict(X_test)\n",
    "clf.fit(X_train, y_train)\n",
    "print(classification_report(y_test, y_pred, target_names=mlb.classes_))"
   ]
  }
 ],
 "metadata": {
  "kernelspec": {
   "display_name": "Python 3",
   "language": "python",
   "name": "python3"
  },
  "language_info": {
   "codemirror_mode": {
    "name": "ipython",
    "version": 3
   },
   "file_extension": ".py",
   "mimetype": "text/x-python",
   "name": "python",
   "nbconvert_exporter": "python",
   "pygments_lexer": "ipython3",
   "version": "3.13.2"
  }
 },
 "nbformat": 4,
 "nbformat_minor": 5
}
