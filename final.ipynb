{
 "cells": [
  {
   "cell_type": "code",
   "execution_count": null,
   "id": "46b546d4",
   "metadata": {},
   "outputs": [],
   "source": [
    "pip install datasets\n",
    "pip install transformers\n",
    "pip install numpy\n",
    "pip install evaluate\n",
    "pip install torch\n",
    "\n"
   ]
  },
  {
   "cell_type": "code",
   "execution_count": null,
   "id": "35fa7edf",
   "metadata": {},
   "outputs": [],
   "source": [
    "#Load the dataset\n",
    "dataset=datasets.load_from_disk(\"super-emotion\")\n"
   ]
  }
 ],
 "metadata": {
  "language_info": {
   "name": "python"
  }
 },
 "nbformat": 4,
 "nbformat_minor": 5
}
